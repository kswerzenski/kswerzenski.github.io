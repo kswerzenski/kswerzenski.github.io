{
 "cells": [
  {
   "cell_type": "markdown",
   "id": "a64e4329",
   "metadata": {},
   "source": [
    "Kristen Swerzenski\n",
    "\n",
    "DSC 530\n",
    "\n",
    "Final Project"
   ]
  },
  {
   "cell_type": "markdown",
   "id": "4965cb75",
   "metadata": {},
   "source": [
    "## Introduction\n",
    "\n",
    "Climate change is becoming an increasing threat to coastal communities. Between rising ocean temperatures and levels, as well as increasing frequency and intensity of catastrophic weather events such as hurricanes, there has been an increased interest in these coastal communities to find ways to more effectively to protect coastlines and attempt to prevent substantial property losses when extreme weather events do occur. In Florida, one of the most popular forms of this coastal armoring are vertical seawalls which replace natural dunes with a hard structure to absorb impacts of wave action and resist storm surge. While these seawalls have been seen to be effective in protecting infrastructure there is increasing evidence that they accelerate erosion and will ultimately lead to more rapidly deteriorating coastlines. In addition, their effects on coastal and beach ecosystems are not well studied and understood, and being that Florida beaches serve as some of the most important nesting habitat in the world for endangered species of sea turtles, it is imperative that we understand how these structures are interacting with these ecosystems and impacting the plants and animals that depend on it.\n",
    "\n",
    "\n",
    "### Research Question\n",
    "\n",
    "How does the presence of hard coastal armoring, such as vertical seawalls, affect sea turtle nest success?\n",
    "\n",
    "### Data and Variables\n",
    "\n",
    "For this exploratory data analysis, I am using a dataset of sea turtle nesting activity from 2022 on a 5-mile stretch of beach monitored by the Disney Conservation Team. The data is collected as a part of Florida Fish and Wildlife's Statewide Nesting Beach Survey and is used to understand different aspects of the nesting sea turtle populations along Florida's coastlines. Along this study site, there are sample sites of both  armored coastline and unarmored coastline which will be the main focus of this analysis.\n",
    "\n",
    "I will be utilizing the following variables for this project: \n",
    " \n",
    " \n",
    " | Variable | Explanation |\n",
    "| --- | --- |\n",
    "| `SurveyZone` | Indicates the geographic zone in which the crawl was located. This variable will be used to distinguish betweem our samples of armored beach and unarmored beach. Zone numbers are determined by the county. |\n",
    "| `Nest_FC` | Whether or not the crawl resulted in the sea turtle laying a nest. N indicates nest, FC indicates false crawl (or a non-nesting crawl). |\n",
    "| `ClutchDepth_m` | How deep (in meters) the initial clutch of eggs was laid. Distance is measured to the top egg of the clutch. |\n",
    "| `HS` | Hatch success. A calculated value indicating the percentage of eggs in the nest that successfully hatched.|\n",
    "| `ES` | Emergence success. A calculated value incidating the percentage of sea turtle hatchlings that successfully emerged from the nest. |\n",
    "| `DuneDistance_m` | Distance of the nest to the toe of the dune, in meters. Good for measuring the position of the nest on the beach. |\n",
    "| `IncubationPeriod` | How long the nest incubated for (measured in days). | \n",
    "\n",
    "The last five variables are what will mainly be used for analysis. The first three will be used to sort, group, and organize the data. "
   ]
  },
  {
   "cell_type": "code",
   "execution_count": 1,
   "id": "0e047078",
   "metadata": {},
   "outputs": [],
   "source": [
    "# Downloading and importing necessary packages\n",
    "from os.path import basename, exists\n",
    "\n",
    "\n",
    "def download(url):\n",
    "    filename = basename(url)\n",
    "    if not exists(filename):\n",
    "        from urllib.request import urlretrieve\n",
    "\n",
    "        local, _ = urlretrieve(url, filename)\n",
    "        print(\"Downloaded \" + local)\n",
    "\n",
    "\n",
    "download(\"https://github.com/AllenDowney/ThinkStats2/raw/master/code/thinkstats2.py\")\n",
    "download(\"https://github.com/AllenDowney/ThinkStats2/raw/master/code/thinkplot.py\")"
   ]
  },
  {
   "cell_type": "code",
   "execution_count": 2,
   "id": "94adafb1",
   "metadata": {},
   "outputs": [],
   "source": [
    "import thinkstats2\n",
    "import thinkplot"
   ]
  },
  {
   "cell_type": "code",
   "execution_count": 3,
   "id": "2d3d566c",
   "metadata": {},
   "outputs": [],
   "source": [
    "import pandas as pd\n",
    "import numpy as np\n",
    "import matplotlib.pyplot as plt"
   ]
  },
  {
   "cell_type": "code",
   "execution_count": 4,
   "id": "d180b494",
   "metadata": {},
   "outputs": [
    {
     "data": {
      "text/html": [
       "<div>\n",
       "<style scoped>\n",
       "    .dataframe tbody tr th:only-of-type {\n",
       "        vertical-align: middle;\n",
       "    }\n",
       "\n",
       "    .dataframe tbody tr th {\n",
       "        vertical-align: top;\n",
       "    }\n",
       "\n",
       "    .dataframe thead th {\n",
       "        text-align: right;\n",
       "    }\n",
       "</style>\n",
       "<table border=\"1\" class=\"dataframe\">\n",
       "  <thead>\n",
       "    <tr style=\"text-align: right;\">\n",
       "      <th></th>\n",
       "      <th>OBJECTID</th>\n",
       "      <th>CrawlYear</th>\n",
       "      <th>DayofYear</th>\n",
       "      <th>CrawlDate</th>\n",
       "      <th>CrawlDateText</th>\n",
       "      <th>CrawlTime</th>\n",
       "      <th>MgmtArea</th>\n",
       "      <th>SurveyArea</th>\n",
       "      <th>SurveyZone</th>\n",
       "      <th>Lat</th>\n",
       "      <th>...</th>\n",
       "      <th>InventoryComments</th>\n",
       "      <th>NestInventoried</th>\n",
       "      <th>Accreted</th>\n",
       "      <th>AmountofAccretion</th>\n",
       "      <th>IncubationPeriod</th>\n",
       "      <th>ClutchSize</th>\n",
       "      <th>UnhatchedSum</th>\n",
       "      <th>HatchlingSum</th>\n",
       "      <th>HS</th>\n",
       "      <th>ES</th>\n",
       "    </tr>\n",
       "  </thead>\n",
       "  <tbody>\n",
       "    <tr>\n",
       "      <th>0</th>\n",
       "      <td>1.0</td>\n",
       "      <td>2022.0</td>\n",
       "      <td>292.0</td>\n",
       "      <td>2022-10-19</td>\n",
       "      <td>10/19/2022</td>\n",
       "      <td>07:56</td>\n",
       "      <td>IRS</td>\n",
       "      <td>Indian River Shores (Baytree)</td>\n",
       "      <td>17</td>\n",
       "      <td>27.717601</td>\n",
       "      <td>...</td>\n",
       "      <td>NaN</td>\n",
       "      <td>NaN</td>\n",
       "      <td>NaN</td>\n",
       "      <td>NaN</td>\n",
       "      <td>NaN</td>\n",
       "      <td>NaN</td>\n",
       "      <td>NaN</td>\n",
       "      <td>NaN</td>\n",
       "      <td>NaN</td>\n",
       "      <td>NaN</td>\n",
       "    </tr>\n",
       "    <tr>\n",
       "      <th>1</th>\n",
       "      <td>2.0</td>\n",
       "      <td>2022.0</td>\n",
       "      <td>290.0</td>\n",
       "      <td>2022-10-17</td>\n",
       "      <td>10/17/2022</td>\n",
       "      <td>09:13</td>\n",
       "      <td>IRS</td>\n",
       "      <td>Indian River Shores (Baytree)</td>\n",
       "      <td>17</td>\n",
       "      <td>27.719273</td>\n",
       "      <td>...</td>\n",
       "      <td>NaN</td>\n",
       "      <td>NaN</td>\n",
       "      <td>NaN</td>\n",
       "      <td>NaN</td>\n",
       "      <td>NaN</td>\n",
       "      <td>NaN</td>\n",
       "      <td>NaN</td>\n",
       "      <td>NaN</td>\n",
       "      <td>NaN</td>\n",
       "      <td>NaN</td>\n",
       "    </tr>\n",
       "    <tr>\n",
       "      <th>2</th>\n",
       "      <td>3.0</td>\n",
       "      <td>2022.0</td>\n",
       "      <td>290.0</td>\n",
       "      <td>2022-10-17</td>\n",
       "      <td>10/17/2022</td>\n",
       "      <td>07:44</td>\n",
       "      <td>DISNEY</td>\n",
       "      <td>Wabasso</td>\n",
       "      <td>10F</td>\n",
       "      <td>27.758017</td>\n",
       "      <td>...</td>\n",
       "      <td>NaN</td>\n",
       "      <td>NaN</td>\n",
       "      <td>NaN</td>\n",
       "      <td>NaN</td>\n",
       "      <td>NaN</td>\n",
       "      <td>NaN</td>\n",
       "      <td>NaN</td>\n",
       "      <td>NaN</td>\n",
       "      <td>NaN</td>\n",
       "      <td>NaN</td>\n",
       "    </tr>\n",
       "    <tr>\n",
       "      <th>3</th>\n",
       "      <td>4.0</td>\n",
       "      <td>2022.0</td>\n",
       "      <td>282.0</td>\n",
       "      <td>2022-10-09</td>\n",
       "      <td>10/9/2022</td>\n",
       "      <td>07:44</td>\n",
       "      <td>DISNEY</td>\n",
       "      <td>Indian River Shores (North)</td>\n",
       "      <td>11S</td>\n",
       "      <td>27.754296</td>\n",
       "      <td>...</td>\n",
       "      <td>NaN</td>\n",
       "      <td>NaN</td>\n",
       "      <td>NaN</td>\n",
       "      <td>NaN</td>\n",
       "      <td>NaN</td>\n",
       "      <td>NaN</td>\n",
       "      <td>NaN</td>\n",
       "      <td>NaN</td>\n",
       "      <td>NaN</td>\n",
       "      <td>NaN</td>\n",
       "    </tr>\n",
       "    <tr>\n",
       "      <th>4</th>\n",
       "      <td>5.0</td>\n",
       "      <td>2022.0</td>\n",
       "      <td>280.0</td>\n",
       "      <td>2022-10-07</td>\n",
       "      <td>10/7/2022</td>\n",
       "      <td>09:13</td>\n",
       "      <td>IRS</td>\n",
       "      <td>Indian River Shores (Baytree)</td>\n",
       "      <td>13S</td>\n",
       "      <td>27.749585</td>\n",
       "      <td>...</td>\n",
       "      <td>NaN</td>\n",
       "      <td>NaN</td>\n",
       "      <td>NaN</td>\n",
       "      <td>NaN</td>\n",
       "      <td>NaN</td>\n",
       "      <td>NaN</td>\n",
       "      <td>NaN</td>\n",
       "      <td>NaN</td>\n",
       "      <td>NaN</td>\n",
       "      <td>NaN</td>\n",
       "    </tr>\n",
       "  </tbody>\n",
       "</table>\n",
       "<p>5 rows × 107 columns</p>\n",
       "</div>"
      ],
      "text/plain": [
       "   OBJECTID  CrawlYear  DayofYear  CrawlDate CrawlDateText CrawlTime MgmtArea  \\\n",
       "0       1.0     2022.0      292.0 2022-10-19    10/19/2022     07:56      IRS   \n",
       "1       2.0     2022.0      290.0 2022-10-17    10/17/2022     09:13      IRS   \n",
       "2       3.0     2022.0      290.0 2022-10-17    10/17/2022     07:44   DISNEY   \n",
       "3       4.0     2022.0      282.0 2022-10-09     10/9/2022     07:44   DISNEY   \n",
       "4       5.0     2022.0      280.0 2022-10-07     10/7/2022     09:13      IRS   \n",
       "\n",
       "                      SurveyArea SurveyZone        Lat  ...  \\\n",
       "0  Indian River Shores (Baytree)         17  27.717601  ...   \n",
       "1  Indian River Shores (Baytree)         17  27.719273  ...   \n",
       "2                        Wabasso        10F  27.758017  ...   \n",
       "3    Indian River Shores (North)        11S  27.754296  ...   \n",
       "4  Indian River Shores (Baytree)        13S  27.749585  ...   \n",
       "\n",
       "   InventoryComments  NestInventoried  Accreted  AmountofAccretion  \\\n",
       "0                NaN              NaN       NaN                NaN   \n",
       "1                NaN              NaN       NaN                NaN   \n",
       "2                NaN              NaN       NaN                NaN   \n",
       "3                NaN              NaN       NaN                NaN   \n",
       "4                NaN              NaN       NaN                NaN   \n",
       "\n",
       "  IncubationPeriod ClutchSize UnhatchedSum HatchlingSum  HS  ES  \n",
       "0              NaN        NaN          NaN          NaN NaN NaN  \n",
       "1              NaN        NaN          NaN          NaN NaN NaN  \n",
       "2              NaN        NaN          NaN          NaN NaN NaN  \n",
       "3              NaN        NaN          NaN          NaN NaN NaN  \n",
       "4              NaN        NaN          NaN          NaN NaN NaN  \n",
       "\n",
       "[5 rows x 107 columns]"
      ]
     },
     "execution_count": 4,
     "metadata": {},
     "output_type": "execute_result"
    }
   ],
   "source": [
    "# Reading data and checking that it was brought in correctly\n",
    "data = pd.read_excel('2022_CrawlData_A.xlsx')\n",
    "data.head()"
   ]
  },
  {
   "cell_type": "code",
   "execution_count": 5,
   "id": "bf5e6a9f",
   "metadata": {},
   "outputs": [
    {
     "data": {
      "text/html": [
       "<div>\n",
       "<style scoped>\n",
       "    .dataframe tbody tr th:only-of-type {\n",
       "        vertical-align: middle;\n",
       "    }\n",
       "\n",
       "    .dataframe tbody tr th {\n",
       "        vertical-align: top;\n",
       "    }\n",
       "\n",
       "    .dataframe thead th {\n",
       "        text-align: right;\n",
       "    }\n",
       "</style>\n",
       "<table border=\"1\" class=\"dataframe\">\n",
       "  <thead>\n",
       "    <tr style=\"text-align: right;\">\n",
       "      <th></th>\n",
       "      <th>OBJECTID</th>\n",
       "      <th>CrawlYear</th>\n",
       "      <th>DayofYear</th>\n",
       "      <th>CrawlDate</th>\n",
       "      <th>CrawlDateText</th>\n",
       "      <th>CrawlTime</th>\n",
       "      <th>MgmtArea</th>\n",
       "      <th>SurveyArea</th>\n",
       "      <th>SurveyZone</th>\n",
       "      <th>Lat</th>\n",
       "      <th>...</th>\n",
       "      <th>InventoryComments</th>\n",
       "      <th>NestInventoried</th>\n",
       "      <th>Accreted</th>\n",
       "      <th>AmountofAccretion</th>\n",
       "      <th>IncubationPeriod</th>\n",
       "      <th>ClutchSize</th>\n",
       "      <th>UnhatchedSum</th>\n",
       "      <th>HatchlingSum</th>\n",
       "      <th>HS</th>\n",
       "      <th>ES</th>\n",
       "    </tr>\n",
       "  </thead>\n",
       "  <tbody>\n",
       "    <tr>\n",
       "      <th>8</th>\n",
       "      <td>4240.0</td>\n",
       "      <td>2022.0</td>\n",
       "      <td>150.0</td>\n",
       "      <td>2022-05-30</td>\n",
       "      <td>5/30/2022</td>\n",
       "      <td>06:39</td>\n",
       "      <td>DISNEY</td>\n",
       "      <td>Wabasso</td>\n",
       "      <td>09S</td>\n",
       "      <td>27.765231</td>\n",
       "      <td>...</td>\n",
       "      <td>Final stake height: 0.50</td>\n",
       "      <td>Y</td>\n",
       "      <td>NaN</td>\n",
       "      <td>NaN</td>\n",
       "      <td>58.0</td>\n",
       "      <td>111.0</td>\n",
       "      <td>8.0</td>\n",
       "      <td>1.0</td>\n",
       "      <td>92.792793</td>\n",
       "      <td>91.891892</td>\n",
       "    </tr>\n",
       "    <tr>\n",
       "      <th>19</th>\n",
       "      <td>4598.0</td>\n",
       "      <td>2022.0</td>\n",
       "      <td>140.0</td>\n",
       "      <td>2022-05-20</td>\n",
       "      <td>5/20/2022</td>\n",
       "      <td>06:46</td>\n",
       "      <td>DISNEY</td>\n",
       "      <td>Wabasso</td>\n",
       "      <td>09G</td>\n",
       "      <td>27.767348</td>\n",
       "      <td>...</td>\n",
       "      <td>NaN</td>\n",
       "      <td>Y</td>\n",
       "      <td>NaN</td>\n",
       "      <td>NaN</td>\n",
       "      <td>56.0</td>\n",
       "      <td>88.0</td>\n",
       "      <td>16.0</td>\n",
       "      <td>1.0</td>\n",
       "      <td>81.818182</td>\n",
       "      <td>80.681818</td>\n",
       "    </tr>\n",
       "    <tr>\n",
       "      <th>23</th>\n",
       "      <td>1330.0</td>\n",
       "      <td>2022.0</td>\n",
       "      <td>199.0</td>\n",
       "      <td>2022-07-18</td>\n",
       "      <td>7/18/2022</td>\n",
       "      <td>07:33</td>\n",
       "      <td>DISNEY</td>\n",
       "      <td>Wabasso</td>\n",
       "      <td>10F</td>\n",
       "      <td>27.758060</td>\n",
       "      <td>...</td>\n",
       "      <td>Water inundated</td>\n",
       "      <td>Y</td>\n",
       "      <td>NaN</td>\n",
       "      <td>NaN</td>\n",
       "      <td>70.0</td>\n",
       "      <td>45.0</td>\n",
       "      <td>45.0</td>\n",
       "      <td>0.0</td>\n",
       "      <td>0.000000</td>\n",
       "      <td>0.000000</td>\n",
       "    </tr>\n",
       "    <tr>\n",
       "      <th>31</th>\n",
       "      <td>71.0</td>\n",
       "      <td>2022.0</td>\n",
       "      <td>242.0</td>\n",
       "      <td>2022-08-30</td>\n",
       "      <td>8/30/2022</td>\n",
       "      <td>08:30</td>\n",
       "      <td>IRS</td>\n",
       "      <td>Indian River Shores (Baytree)</td>\n",
       "      <td>16</td>\n",
       "      <td>27.722126</td>\n",
       "      <td>...</td>\n",
       "      <td>NaN</td>\n",
       "      <td>NaN</td>\n",
       "      <td>NaN</td>\n",
       "      <td>NaN</td>\n",
       "      <td>NaN</td>\n",
       "      <td>NaN</td>\n",
       "      <td>NaN</td>\n",
       "      <td>NaN</td>\n",
       "      <td>NaN</td>\n",
       "      <td>NaN</td>\n",
       "    </tr>\n",
       "    <tr>\n",
       "      <th>65</th>\n",
       "      <td>3213.0</td>\n",
       "      <td>2022.0</td>\n",
       "      <td>171.0</td>\n",
       "      <td>2022-06-20</td>\n",
       "      <td>6/20/2022</td>\n",
       "      <td>08:43</td>\n",
       "      <td>IRS</td>\n",
       "      <td>Indian River Shores (Baytree)</td>\n",
       "      <td>13S</td>\n",
       "      <td>27.750117</td>\n",
       "      <td>...</td>\n",
       "      <td>NaN</td>\n",
       "      <td>Y</td>\n",
       "      <td>NaN</td>\n",
       "      <td>NaN</td>\n",
       "      <td>61.0</td>\n",
       "      <td>64.0</td>\n",
       "      <td>2.0</td>\n",
       "      <td>3.0</td>\n",
       "      <td>96.875000</td>\n",
       "      <td>92.187500</td>\n",
       "    </tr>\n",
       "  </tbody>\n",
       "</table>\n",
       "<p>5 rows × 107 columns</p>\n",
       "</div>"
      ],
      "text/plain": [
       "    OBJECTID  CrawlYear  DayofYear  CrawlDate CrawlDateText CrawlTime  \\\n",
       "8     4240.0     2022.0      150.0 2022-05-30     5/30/2022     06:39   \n",
       "19    4598.0     2022.0      140.0 2022-05-20     5/20/2022     06:46   \n",
       "23    1330.0     2022.0      199.0 2022-07-18     7/18/2022     07:33   \n",
       "31      71.0     2022.0      242.0 2022-08-30     8/30/2022     08:30   \n",
       "65    3213.0     2022.0      171.0 2022-06-20     6/20/2022     08:43   \n",
       "\n",
       "   MgmtArea                     SurveyArea SurveyZone        Lat  ...  \\\n",
       "8    DISNEY                        Wabasso        09S  27.765231  ...   \n",
       "19   DISNEY                        Wabasso        09G  27.767348  ...   \n",
       "23   DISNEY                        Wabasso        10F  27.758060  ...   \n",
       "31      IRS  Indian River Shores (Baytree)         16  27.722126  ...   \n",
       "65      IRS  Indian River Shores (Baytree)        13S  27.750117  ...   \n",
       "\n",
       "           InventoryComments  NestInventoried  Accreted  AmountofAccretion  \\\n",
       "8   Final stake height: 0.50                Y       NaN                NaN   \n",
       "19                       NaN                Y       NaN                NaN   \n",
       "23           Water inundated                Y       NaN                NaN   \n",
       "31                       NaN              NaN       NaN                NaN   \n",
       "65                       NaN                Y       NaN                NaN   \n",
       "\n",
       "   IncubationPeriod ClutchSize UnhatchedSum HatchlingSum         HS         ES  \n",
       "8              58.0      111.0          8.0          1.0  92.792793  91.891892  \n",
       "19             56.0       88.0         16.0          1.0  81.818182  80.681818  \n",
       "23             70.0       45.0         45.0          0.0   0.000000   0.000000  \n",
       "31              NaN        NaN          NaN          NaN        NaN        NaN  \n",
       "65             61.0       64.0          2.0          3.0  96.875000  92.187500  \n",
       "\n",
       "[5 rows x 107 columns]"
      ]
     },
     "execution_count": 5,
     "metadata": {},
     "output_type": "execute_result"
    }
   ],
   "source": [
    "# Cleaning and filtering the data to only include relevant rows of crawls that resulted in nests\n",
    "nest_data = data[data['NestType'] == 'REP']\n",
    "nest_data.head()"
   ]
  },
  {
   "cell_type": "markdown",
   "id": "46e2218b",
   "metadata": {},
   "source": [
    "### Histograms and Descriptive Statistics"
   ]
  },
  {
   "cell_type": "markdown",
   "id": "70982f61",
   "metadata": {},
   "source": [
    "Because most variables are continuous, the thinkstats code for histograms was giving me some trouble so I had to use matplot to bin and plot the data."
   ]
  },
  {
   "cell_type": "markdown",
   "id": "6c7c5ce8",
   "metadata": {},
   "source": [
    "#### Variable 1 - ClutchDepth_m"
   ]
  },
  {
   "cell_type": "code",
   "execution_count": 6,
   "id": "a3283269",
   "metadata": {},
   "outputs": [
    {
     "data": {
      "image/png": "[encoded data removed]",
      "text/plain": [
       "<Figure size 640x480 with 1 Axes>"
      ]
     },
     "metadata": {},
     "output_type": "display_data"
    }
   ],
   "source": [
    "# Using matplot to plot a histogram of Clutch Depth with 50 bins\n",
    "plt.hist(nest_data['ClutchDepth_m'], bins=50, edgecolor='black', range=(0, 2))\n",
    "plt.xlabel('Clutch Depth (m)')\n",
    "plt.ylabel('Frequency')\n",
    "plt.xlim(0, 1) \n",
    "plt.show()"
   ]
  },
  {
   "cell_type": "code",
   "execution_count": 7,
   "id": "8da76d03",
   "metadata": {},
   "outputs": [
    {
     "data": {
      "text/plain": [
       "0.46074579661016957"
      ]
     },
     "execution_count": 7,
     "metadata": {},
     "output_type": "execute_result"
    }
   ],
   "source": [
    "# Calculating mean\n",
    "nest_data.ClutchDepth_m.mean()"
   ]
  },
  {
   "cell_type": "code",
   "execution_count": 8,
   "id": "e503b401",
   "metadata": {
    "scrolled": true
   },
   "outputs": [
    {
     "data": {
      "text/plain": [
       "0    0.42\n",
       "Name: ClutchDepth_m, dtype: float64"
      ]
     },
     "execution_count": 8,
     "metadata": {},
     "output_type": "execute_result"
    }
   ],
   "source": [
    "# Calculating mode\n",
    "nest_data.ClutchDepth_m.mode()"
   ]
  },
  {
   "cell_type": "code",
   "execution_count": 9,
   "id": "dbfc7094",
   "metadata": {
    "scrolled": true
   },
   "outputs": [
    {
     "data": {
      "text/plain": [
       "0.45"
      ]
     },
     "execution_count": 9,
     "metadata": {},
     "output_type": "execute_result"
    }
   ],
   "source": [
    "# Calculating median\n",
    "nest_data.ClutchDepth_m.median()"
   ]
  },
  {
   "cell_type": "code",
   "execution_count": 10,
   "id": "23cad543",
   "metadata": {
    "scrolled": true
   },
   "outputs": [
    {
     "data": {
      "text/plain": [
       "0.02837219971900607"
      ]
     },
     "execution_count": 10,
     "metadata": {},
     "output_type": "execute_result"
    }
   ],
   "source": [
    "# Calculating variance\n",
    "nest_data.ClutchDepth_m.var()"
   ]
  },
  {
   "cell_type": "code",
   "execution_count": 11,
   "id": "40f6d929",
   "metadata": {},
   "outputs": [
    {
     "data": {
      "text/plain": [
       "0.16844049310960257"
      ]
     },
     "execution_count": 11,
     "metadata": {},
     "output_type": "execute_result"
    }
   ],
   "source": [
    "# Calculating standard deviation\n",
    "nest_data.ClutchDepth_m.std()"
   ]
  },
  {
   "cell_type": "markdown",
   "id": "28b57dfe",
   "metadata": {},
   "source": [
    "Overall, clutch depth appears to have a relative normal distribution with a very close mean and median. Standard deviation is 0.17, meaning that the average nest deviates from the mean by rougly 0.17 meters which is a decent amount of variation being that most all clutch depths are between 0-1m. "
   ]
  },
  {
   "cell_type": "markdown",
   "id": "baedac1b",
   "metadata": {},
   "source": [
    "#### Variable 2 - Hatching Success"
   ]
  },
  {
   "cell_type": "code",
   "execution_count": 12,
   "id": "7feacb90",
   "metadata": {},
   "outputs": [
    {
     "data": {
      "image/png": "[encoded data removed]",
      "text/plain": [
       "<Figure size 640x480 with 1 Axes>"
      ]
     },
     "metadata": {},
     "output_type": "display_data"
    }
   ],
   "source": [
    "# Using matplot to plot a histogram of Hatching Success with 50 bins\n",
    "plt.hist(nest_data['HS'], bins=50, edgecolor='black')\n",
    "plt.xlabel('Hatch Success (%)')\n",
    "plt.ylabel('Frequency')\n",
    "plt.xlim(0, 100)\n",
    "plt.show()"
   ]
  },
  {
   "cell_type": "code",
   "execution_count": 13,
   "id": "17fe2464",
   "metadata": {},
   "outputs": [
    {
     "data": {
      "text/plain": [
       "75.71324274281645"
      ]
     },
     "execution_count": 13,
     "metadata": {},
     "output_type": "execute_result"
    }
   ],
   "source": [
    "# Calculating mean\n",
    "nest_data.HS.mean()"
   ]
  },
  {
   "cell_type": "code",
   "execution_count": 14,
   "id": "ee6aedf8",
   "metadata": {},
   "outputs": [
    {
     "data": {
      "text/plain": [
       "0    83.333333\n",
       "Name: HS, dtype: float64"
      ]
     },
     "execution_count": 14,
     "metadata": {},
     "output_type": "execute_result"
    }
   ],
   "source": [
    "# Calculating mode\n",
    "nest_data.HS.mode()"
   ]
  },
  {
   "cell_type": "code",
   "execution_count": 15,
   "id": "03891262",
   "metadata": {},
   "outputs": [
    {
     "data": {
      "text/plain": [
       "86.13861386138613"
      ]
     },
     "execution_count": 15,
     "metadata": {},
     "output_type": "execute_result"
    }
   ],
   "source": [
    "# Calculating median\n",
    "nest_data.HS.median()"
   ]
  },
  {
   "cell_type": "code",
   "execution_count": 16,
   "id": "65e1d758",
   "metadata": {},
   "outputs": [
    {
     "data": {
      "text/plain": [
       "626.5103453442857"
      ]
     },
     "execution_count": 16,
     "metadata": {},
     "output_type": "execute_result"
    }
   ],
   "source": [
    "# Calculating variance\n",
    "nest_data.HS.var()"
   ]
  },
  {
   "cell_type": "code",
   "execution_count": 17,
   "id": "badcfba8",
   "metadata": {},
   "outputs": [
    {
     "data": {
      "text/plain": [
       "25.030188679758005"
      ]
     },
     "execution_count": 17,
     "metadata": {},
     "output_type": "execute_result"
    }
   ],
   "source": [
    "# Calculating standard deviation\n",
    "nest_data.HS.std()"
   ]
  },
  {
   "cell_type": "markdown",
   "id": "53d78dcb",
   "metadata": {},
   "source": [
    "Hatch success is a variable measured in percentage and shows a rather extreme negative skew, indicating that most values fall towards the right side of the distribution. In this case, it means that the majority of nests in the sample had a relatively high hatch success rate. The median is larger than the mean, supporting this observation, but standard deviation is about 25% which indicates a lot of variability or a high influence of outliers on the dataset. "
   ]
  },
  {
   "cell_type": "markdown",
   "id": "e4867015",
   "metadata": {},
   "source": [
    "#### Variable 3 - Emergence Success"
   ]
  },
  {
   "cell_type": "code",
   "execution_count": 18,
   "id": "5f8b27a0",
   "metadata": {
    "scrolled": false
   },
   "outputs": [
    {
     "data": {
      "image/png": "[encoded data removed]",
      "text/plain": [
       "<Figure size 640x480 with 1 Axes>"
      ]
     },
     "metadata": {},
     "output_type": "display_data"
    }
   ],
   "source": [
    "# Using matplot to plot a histogram of Emergence Success with 50 bins\n",
    "plt.hist(nest_data['ES'], bins=50, edgecolor='black')\n",
    "plt.xlabel('Emergence Success (%)')\n",
    "plt.ylabel('Frequency')\n",
    "plt.xlim(0, 100)\n",
    "plt.show()"
   ]
  },
  {
   "cell_type": "code",
   "execution_count": 19,
   "id": "31781b06",
   "metadata": {},
   "outputs": [
    {
     "data": {
      "text/plain": [
       "73.82214859885741"
      ]
     },
     "execution_count": 19,
     "metadata": {},
     "output_type": "execute_result"
    }
   ],
   "source": [
    "# Calculating mean\n",
    "nest_data.ES.mean()"
   ]
  },
  {
   "cell_type": "code",
   "execution_count": 20,
   "id": "b0be42bc",
   "metadata": {
    "scrolled": true
   },
   "outputs": [
    {
     "data": {
      "text/plain": [
       "0    0.0\n",
       "Name: ES, dtype: float64"
      ]
     },
     "execution_count": 20,
     "metadata": {},
     "output_type": "execute_result"
    }
   ],
   "source": [
    "# Calculating mode\n",
    "nest_data.ES.mode()"
   ]
  },
  {
   "cell_type": "code",
   "execution_count": 21,
   "id": "a5d97226",
   "metadata": {
    "scrolled": true
   },
   "outputs": [
    {
     "data": {
      "text/plain": [
       "84.21052631578947"
      ]
     },
     "execution_count": 21,
     "metadata": {},
     "output_type": "execute_result"
    }
   ],
   "source": [
    "# Calculating median\n",
    "nest_data.ES.median()"
   ]
  },
  {
   "cell_type": "code",
   "execution_count": 22,
   "id": "007fef9b",
   "metadata": {
    "scrolled": true
   },
   "outputs": [
    {
     "data": {
      "text/plain": [
       "647.5360290467065"
      ]
     },
     "execution_count": 22,
     "metadata": {},
     "output_type": "execute_result"
    }
   ],
   "source": [
    "# Calculating variance\n",
    "nest_data.ES.var()"
   ]
  },
  {
   "cell_type": "code",
   "execution_count": 23,
   "id": "0b1c0ce7",
   "metadata": {},
   "outputs": [
    {
     "data": {
      "text/plain": [
       "25.446729240645183"
      ]
     },
     "execution_count": 23,
     "metadata": {},
     "output_type": "execute_result"
    }
   ],
   "source": [
    "# Calculating standard deviation\n",
    "nest_data.ES.std()"
   ]
  },
  {
   "cell_type": "markdown",
   "id": "1e460dc5",
   "metadata": {},
   "source": [
    "Similar to hatch success, emergence success is also a variable measured in percentage and shows a rather extreme negative skew. While hatch success measures the success of eggs hatching, emergence success measures how successful the hatchlings were at exiting the nest. The summary statistics are very similar to hatch success, with a higher median than mean and an almost identical standard deviation."
   ]
  },
  {
   "cell_type": "markdown",
   "id": "e3986a25",
   "metadata": {},
   "source": [
    "#### Variable 4 - Distance to Dune"
   ]
  },
  {
   "cell_type": "code",
   "execution_count": 24,
   "id": "b5fefc79",
   "metadata": {},
   "outputs": [
    {
     "data": {
      "image/png": "[encoded data removed]",
      "text/plain": [
       "<Figure size 640x480 with 1 Axes>"
      ]
     },
     "metadata": {},
     "output_type": "display_data"
    }
   ],
   "source": [
    "# Using matplot to plot a histogram of Distance to Dune with 50 bins\n",
    "plt.hist(nest_data['DuneDistance_m'], bins=50, edgecolor='black')\n",
    "plt.xlabel('Distance to Dune (m)')\n",
    "plt.ylabel('Frequency')\n",
    "plt.show()"
   ]
  },
  {
   "cell_type": "code",
   "execution_count": 25,
   "id": "139942bd",
   "metadata": {},
   "outputs": [
    {
     "data": {
      "text/plain": [
       "4.323703737373737"
      ]
     },
     "execution_count": 25,
     "metadata": {},
     "output_type": "execute_result"
    }
   ],
   "source": [
    "# Calculating mean\n",
    "nest_data.DuneDistance_m.mean()"
   ]
  },
  {
   "cell_type": "code",
   "execution_count": 26,
   "id": "ad1e8fa4",
   "metadata": {
    "scrolled": false
   },
   "outputs": [
    {
     "data": {
      "text/plain": [
       "0    0.0\n",
       "Name: DuneDistance_m, dtype: float64"
      ]
     },
     "execution_count": 26,
     "metadata": {},
     "output_type": "execute_result"
    }
   ],
   "source": [
    "# Calculating mode\n",
    "nest_data.DuneDistance_m.mode()"
   ]
  },
  {
   "cell_type": "code",
   "execution_count": 27,
   "id": "6c7c008a",
   "metadata": {
    "scrolled": true
   },
   "outputs": [
    {
     "data": {
      "text/plain": [
       "3.12"
      ]
     },
     "execution_count": 27,
     "metadata": {},
     "output_type": "execute_result"
    }
   ],
   "source": [
    "# Calculating median\n",
    "nest_data.DuneDistance_m.median()"
   ]
  },
  {
   "cell_type": "code",
   "execution_count": 28,
   "id": "e47337f3",
   "metadata": {
    "scrolled": true
   },
   "outputs": [
    {
     "data": {
      "text/plain": [
       "15.817569052202538"
      ]
     },
     "execution_count": 28,
     "metadata": {},
     "output_type": "execute_result"
    }
   ],
   "source": [
    "# Calculating variance\n",
    "nest_data.DuneDistance_m.var()"
   ]
  },
  {
   "cell_type": "code",
   "execution_count": 29,
   "id": "ffa0a439",
   "metadata": {},
   "outputs": [
    {
     "data": {
      "text/plain": [
       "3.9771307562365283"
      ]
     },
     "execution_count": 29,
     "metadata": {},
     "output_type": "execute_result"
    }
   ],
   "source": [
    "# Calculating standard deviation\n",
    "nest_data.DuneDistance_m.std()"
   ]
  },
  {
   "cell_type": "markdown",
   "id": "37299ea2",
   "metadata": {},
   "source": [
    "The distance to dune gives us a relative idea of the nest's location on the beach in relation to the dunes. The greater the distance, the closer to the water line the nest is. The distribution of distance to dune is positively skewed, meaning the majority of values are located to the left. This is supported by the median being less than the mean. The standard deviation is about 4 meters, indicating a decent amount of variability and a stronger influence of larger outliers."
   ]
  },
  {
   "cell_type": "markdown",
   "id": "60ef064f",
   "metadata": {},
   "source": [
    "#### Variable 5 - Incubation Period"
   ]
  },
  {
   "cell_type": "code",
   "execution_count": 30,
   "id": "a33316c7",
   "metadata": {
    "scrolled": false
   },
   "outputs": [
    {
     "data": {
      "image/png": "[encoded data removed]",
      "text/plain": [
       "<Figure size 640x480 with 1 Axes>"
      ]
     },
     "metadata": {},
     "output_type": "display_data"
    }
   ],
   "source": [
    "# Using thinkstats to plot a histogram of incubation period\n",
    "hist5 = thinkstats2.Hist(nest_data.IncubationPeriod, label='IncubationPeriod')\n",
    "thinkplot.Hist(hist5)\n",
    "thinkplot.Config(xlabel='Incubation Period (days)', ylabel='frequency')"
   ]
  },
  {
   "cell_type": "code",
   "execution_count": 31,
   "id": "b82fe699",
   "metadata": {},
   "outputs": [
    {
     "data": {
      "text/plain": [
       "58.890756302521005"
      ]
     },
     "execution_count": 31,
     "metadata": {},
     "output_type": "execute_result"
    }
   ],
   "source": [
    "# Calculating mean\n",
    "nest_data.IncubationPeriod.mean()"
   ]
  },
  {
   "cell_type": "code",
   "execution_count": 32,
   "id": "bece2118",
   "metadata": {
    "scrolled": false
   },
   "outputs": [
    {
     "data": {
      "text/plain": [
       "0    70.0\n",
       "Name: IncubationPeriod, dtype: float64"
      ]
     },
     "execution_count": 32,
     "metadata": {},
     "output_type": "execute_result"
    }
   ],
   "source": [
    "# Calculating mode\n",
    "nest_data.IncubationPeriod.mode()"
   ]
  },
  {
   "cell_type": "code",
   "execution_count": 33,
   "id": "8965bf02",
   "metadata": {
    "scrolled": true
   },
   "outputs": [
    {
     "data": {
      "text/plain": [
       "55.5"
      ]
     },
     "execution_count": 33,
     "metadata": {},
     "output_type": "execute_result"
    }
   ],
   "source": [
    "# Calculating median\n",
    "nest_data.IncubationPeriod.median()"
   ]
  },
  {
   "cell_type": "code",
   "execution_count": 34,
   "id": "176d6f54",
   "metadata": {
    "scrolled": true
   },
   "outputs": [
    {
     "data": {
      "text/plain": [
       "75.4394922525972"
      ]
     },
     "execution_count": 34,
     "metadata": {},
     "output_type": "execute_result"
    }
   ],
   "source": [
    "# Calculating variance\n",
    "nest_data.IncubationPeriod.var()"
   ]
  },
  {
   "cell_type": "code",
   "execution_count": 35,
   "id": "a0a636c2",
   "metadata": {},
   "outputs": [
    {
     "data": {
      "text/plain": [
       "8.685591070997829"
      ]
     },
     "execution_count": 35,
     "metadata": {},
     "output_type": "execute_result"
    }
   ],
   "source": [
    "# Calculating standard deviation\n",
    "nest_data.IncubationPeriod.std()"
   ]
  },
  {
   "cell_type": "markdown",
   "id": "60b5eca3",
   "metadata": {},
   "source": [
    "At first glance this variable of nest incubation appears to be skewed. However, all nests are excavated at 70 days, so if a hatch wasn't observed at the nest the incubation period automatically defaults to 70 days. However, 70-day incubation could mean that wither no hatch ocurred or an unobserved hatch occurred at an unknown date, meaning that 70-day incubation periods are most likely not reliable though extra cleaning of the dataset would be needed to determine which ones are true 70-day incubations. Anything above 70-days represents a different species of sea turtle who's nest has a longer incubation period, so species will have to be taken into account as well (though sample size for this particular species on this beach is too small to do any analysis with). Median is one of the most useful summary statistics, and a 55.5 day incubation period is right on par with other studies that have looked at overall incubation period for nests in this area. Standard deviation is also a little high at 8.7 days, but correcting the outliers would most likely lessen that."
   ]
  },
  {
   "cell_type": "markdown",
   "id": "dbedcdb7",
   "metadata": {},
   "source": [
    "### Probability Mass Functions"
   ]
  },
  {
   "cell_type": "markdown",
   "id": "6601c2f1",
   "metadata": {},
   "source": [
    "#### Scenario 1: Comparing Nest Depths on Armored Beach (SurveyZones 9S-9G)  and Unarmored Beach (SurveyZone 17)"
   ]
  },
  {
   "cell_type": "markdown",
   "id": "d081674e",
   "metadata": {},
   "source": [
    "The basis of my research question is to investigate whether or not nests laid on armored beach are differ from nests laid on unarmored beach. This first PMF compares the depth at which the eggs were laid on these two different treatment beaches. "
   ]
  },
  {
   "cell_type": "code",
   "execution_count": 36,
   "id": "6af8395a",
   "metadata": {},
   "outputs": [],
   "source": [
    "# Splitting the data between nests on armored beach and nests on unarmored beach\n",
    "armored = nest_data[nest_data['SurveyZone'].isin(['16','17'])]\n",
    "unarmored = nest_data[nest_data['SurveyZone'].isin(['09S','09G'])]"
   ]
  },
  {
   "cell_type": "code",
   "execution_count": 37,
   "id": "a445559c",
   "metadata": {},
   "outputs": [],
   "source": [
    "# Using thinkstats to calculate PMFs\n",
    "armored_pmf = thinkstats2.Pmf(armored.ClutchDepth_m, label=\"armored\")\n",
    "unarmored_pmf = thinkstats2.Pmf(unarmored.ClutchDepth_m, label=\"unarmored\")"
   ]
  },
  {
   "cell_type": "code",
   "execution_count": 38,
   "id": "c8dff47c",
   "metadata": {
    "scrolled": false
   },
   "outputs": [
    {
     "data": {
      "image/png": "[encoded data removed]",
      "text/plain": [
       "<Figure size 1200x600 with 2 Axes>"
      ]
     },
     "metadata": {},
     "output_type": "display_data"
    }
   ],
   "source": [
    "# Using thinkstats to plot PMFs\n",
    "width = 0.45\n",
    "thinkplot.PrePlot(2, cols=2)\n",
    "thinkplot.Hist(armored_pmf, align=\"right\", width=width)\n",
    "thinkplot.Hist(unarmored_pmf, align=\"left\", width=width)\n",
    "thinkplot.Config(xlabel=\"Clutch Depth (m)\", ylabel=\"PMF\")\n",
    "\n",
    "thinkplot.PrePlot(2)\n",
    "thinkplot.SubPlot(2)\n",
    "thinkplot.Pmfs([armored_pmf, unarmored_pmf])\n",
    "thinkplot.Config(xlabel=\"Clutch Depth (m)\")"
   ]
  },
  {
   "cell_type": "markdown",
   "id": "6740ea5c",
   "metadata": {},
   "source": [
    "Spread of the probability mass functions is relatively similar beetween armored beach and unarmored beach. There appears to potentially be some higher outliers on armored beach, indicating a few nests that were laid deeper, but overall there is little to no distinguishing characteristics between the two PMFs."
   ]
  },
  {
   "cell_type": "markdown",
   "id": "4301c5cc",
   "metadata": {},
   "source": [
    "#### Scenario 2: Comparing Incubtion Period on Armored Beach (SurveyZones 9S-9G)  and Unarmored Beach (SurveyZone 17)"
   ]
  },
  {
   "cell_type": "markdown",
   "id": "6cd1ee34",
   "metadata": {},
   "source": [
    "Another thing that can vary quite a bit with sea turtle nests is the incubation period. A variety of factors can influence this, including incubation temperature, beach and environmental conditions, and time of the season. Armored beach typicallly faces accelerated erosion and higher levels of tidal washovers of nests that can impact how the nest incubates. This PMF compares the incubation periods of nests on armored beach and unarmored beach."
   ]
  },
  {
   "cell_type": "code",
   "execution_count": 39,
   "id": "e2ef5cf8",
   "metadata": {},
   "outputs": [],
   "source": [
    "# Using thinkstats to calculate PMFs\n",
    "armored_pmf_inc = thinkstats2.Pmf(armored.IncubationPeriod, label=\"armored\")\n",
    "unarmored_pmf_inc = thinkstats2.Pmf(unarmored.IncubationPeriod, label=\"unarmored\")"
   ]
  },
  {
   "cell_type": "code",
   "execution_count": 40,
   "id": "af0484af",
   "metadata": {
    "scrolled": false
   },
   "outputs": [
    {
     "data": {
      "image/png": "[encoded data removed]",
      "text/plain": [
       "<Figure size 1200x600 with 2 Axes>"
      ]
     },
     "metadata": {},
     "output_type": "display_data"
    }
   ],
   "source": [
    "# Using thinkstats to plot PMFs\n",
    "width = 0.45\n",
    "thinkplot.PrePlot(2, cols=2)\n",
    "thinkplot.Hist(armored_pmf_inc, align=\"right\", width=width)\n",
    "thinkplot.Hist(unarmored_pmf_inc, align=\"left\", width=width)\n",
    "thinkplot.Config(xlabel=\"Incubation Period (days)\", ylabel=\"PMF\")\n",
    "\n",
    "thinkplot.PrePlot(2)\n",
    "thinkplot.SubPlot(2)\n",
    "thinkplot.Pmfs([armored_pmf_inc, unarmored_pmf_inc])\n",
    "thinkplot.Config(xlabel=\"Incubation Period (days)\")"
   ]
  },
  {
   "cell_type": "markdown",
   "id": "591b75c0",
   "metadata": {},
   "source": [
    "In these PMFs, we se a slight difference in incubation periods between nests laid on armoredbeaches and unarmored beaches. It appears that most nests on armored beaches have relatively lower incubation periods as opposed to nests laid on armored beaches,  indicating that they may be hatching sooner than nests laid on armored beaches. The spike at 70 days is due to the fact that all nests are inventoried at 70 days regardless of whether or not a hatch was observed, so anything 70-days or over should be ignored in this data. The few high outliers indicate a species of turtle with longer incubation periods, however their nests are uncommon on these beaches,"
   ]
  },
  {
   "cell_type": "markdown",
   "id": "1a053dfb",
   "metadata": {},
   "source": [
    "### Culmulative Distribution Function"
   ]
  },
  {
   "cell_type": "markdown",
   "id": "a54e9080",
   "metadata": {},
   "source": [
    "Below I plotted two culmulative distribution functions for hatch success of nests on armored beach and nests on unarmored beach:"
   ]
  },
  {
   "cell_type": "code",
   "execution_count": 41,
   "id": "8985fd6a",
   "metadata": {},
   "outputs": [
    {
     "data": {
      "image/png": "[encoded data removed]",
      "text/plain": [
       "<Figure size 640x480 with 1 Axes>"
      ]
     },
     "metadata": {},
     "output_type": "display_data"
    }
   ],
   "source": [
    "# Using thinkstats to plot CDF of Hatch Success for armored beach sample\n",
    "cdf_arm = thinkstats2.Cdf(armored.IncubationPeriod, label='Hatch Success')\n",
    "thinkplot.Cdf(cdf_arm)\n",
    "thinkplot.Config(xlabel='Hatch Success (%)', ylabel='CDF', loc='upper left')"
   ]
  },
  {
   "cell_type": "code",
   "execution_count": 42,
   "id": "2d3062cf",
   "metadata": {},
   "outputs": [
    {
     "data": {
      "image/png": "[encoded data removed]",
      "text/plain": [
       "<Figure size 640x480 with 1 Axes>"
      ]
     },
     "metadata": {},
     "output_type": "display_data"
    }
   ],
   "source": [
    "# Using thinkstats to plot CDF of unarmored beach sample\n",
    "cdf_unarm = thinkstats2.Cdf(unarmored.HS, label='Hatch Success')\n",
    "thinkplot.Cdf(cdf_unarm)\n",
    "thinkplot.Config(xlabel='Hatch Success (%)', ylabel='CDF', loc='upper left')"
   ]
  },
  {
   "cell_type": "markdown",
   "id": "1f92f493",
   "metadata": {},
   "source": [
    "The armored CDF appears to overall have more nests with lower hatch success rates than nests laid on unarmored beach. The unarmored beach CDF curve stays relatively low among lower hatch success rates before increasing drastically between 80-100%. A general opposite trend is seen on the armored beach, where the greatest increase in the curve is seen between 50-70% hatch success rate. This indicates that there may be a difference in nest hatch success between nests laid on armored beahc and unarmored beach."
   ]
  },
  {
   "cell_type": "markdown",
   "id": "45a813ba",
   "metadata": {},
   "source": [
    "### Analytical Distribution"
   ]
  },
  {
   "cell_type": "markdown",
   "id": "748dc569",
   "metadata": {},
   "source": [
    "Based on the roughly exponential shape of the armored Hatch Success CDF, I chose to plot an exponential anayytical distribution of harch success on armored beach (complementary CDF):"
   ]
  },
  {
   "cell_type": "code",
   "execution_count": 43,
   "id": "acc0da7b",
   "metadata": {},
   "outputs": [
    {
     "data": {
      "image/png": "[encoded data removed]",
      "text/plain": [
       "<Figure size 640x480 with 1 Axes>"
      ]
     },
     "metadata": {},
     "output_type": "display_data"
    }
   ],
   "source": [
    "# Using thinkstats code to plot CCDF (exponential distribution)\n",
    "thinkplot.Cdf(cdf_arm, complement=True)\n",
    "thinkplot.Config(\n",
    "    xlabel=\"Hatch Success\",\n",
    "    ylabel=\"CCDF\",\n",
    "    yscale=\"log\",\n",
    "    loc=\"upper right\",\n",
    ")"
   ]
  },
  {
   "cell_type": "markdown",
   "id": "5a789ba6",
   "metadata": {},
   "source": [
    "By looking at this analytical distribution, we learn a little more about how the hatch success variable is distributed for armored nests. It starts with a fairly steady decrease before exhibiting several drastic drops towards the end, which could tell us a number of things. Most likely given what I already know about this distribution, it indicates the presence of several influential outliers in the data. However, it ould also indicate that the data is a mix of distributions and that depending on what I'm looking at in the sample could change the type of model that is best fit for this data. "
   ]
  },
  {
   "cell_type": "markdown",
   "id": "c09415a2",
   "metadata": {},
   "source": [
    "### Scatterplots"
   ]
  },
  {
   "cell_type": "markdown",
   "id": "d207dc35",
   "metadata": {},
   "source": [
    "Covariance, Correlation, and Spearman's Correlation functions from thinkstats:"
   ]
  },
  {
   "cell_type": "code",
   "execution_count": 44,
   "id": "9c4d7fdd",
   "metadata": {},
   "outputs": [],
   "source": [
    "def Cov(xs, ys, meanx=None, meany=None):\n",
    "    xs = np.asarray(xs)\n",
    "    ys = np.asarray(ys)\n",
    "\n",
    "    if meanx is None:\n",
    "        meanx = np.mean(xs)\n",
    "    if meany is None:\n",
    "        meany = np.mean(ys)\n",
    "\n",
    "    cov = np.dot(xs-meanx, ys-meany) / len(xs)\n",
    "    return cov"
   ]
  },
  {
   "cell_type": "code",
   "execution_count": 45,
   "id": "fa055f32",
   "metadata": {},
   "outputs": [],
   "source": [
    "def Corr(xs, ys):\n",
    "    xs = np.asarray(xs)\n",
    "    ys = np.asarray(ys)\n",
    "\n",
    "    meanx, varx = thinkstats2.MeanVar(xs)\n",
    "    meany, vary = thinkstats2.MeanVar(ys)\n",
    "\n",
    "    corr = Cov(xs, ys, meanx, meany) / np.sqrt(varx * vary)\n",
    "    return corr"
   ]
  },
  {
   "cell_type": "code",
   "execution_count": 46,
   "id": "69940374",
   "metadata": {},
   "outputs": [],
   "source": [
    "def SpearmanCorr(xs, ys):\n",
    "    xranks = pd.Series(xs).rank()\n",
    "    yranks = pd.Series(ys).rank()\n",
    "    return Corr(xranks, yranks)"
   ]
  },
  {
   "cell_type": "code",
   "execution_count": 47,
   "id": "90f8d849",
   "metadata": {},
   "outputs": [],
   "source": [
    "# Further transforming and cleaning data to only include nests that were inventoried to avoid missing values\n",
    "nest_data_inv = nest_data[nest_data['NestInventoried'] == 'Y']\n",
    "nest_data_inv = nest_data_inv.dropna(subset=['ClutchDepth_m'])"
   ]
  },
  {
   "cell_type": "markdown",
   "id": "04d5c4a3",
   "metadata": {},
   "source": [
    "#### Scatterplot 1: Hatch Success vs. Distance to Dune"
   ]
  },
  {
   "cell_type": "markdown",
   "id": "47ae15d7",
   "metadata": {},
   "source": [
    "While my research question focuses on differences between nests on armored beach and unarmored beach, it is important to look at the big picture of how all fo the variables relate to one another. The first scatterplot I chose to visualize with a scatterplot is the relationship between nest hatch success and the distance the nest was in relation to the dune. In general, beach armored with a seawall has overall less viable nesting habitat, and \"distance to dune\" gives us an idea of the nest's location on the beach in relation to the dune line (or seawall). "
   ]
  },
  {
   "cell_type": "code",
   "execution_count": 48,
   "id": "55d77bd7",
   "metadata": {
    "scrolled": false
   },
   "outputs": [
    {
     "data": {
      "image/png": "[encoded data removed]",
      "text/plain": [
       "<Figure size 640x480 with 1 Axes>"
      ]
     },
     "metadata": {},
     "output_type": "display_data"
    }
   ],
   "source": [
    "#Plotting scatterplot of Hatch Success vs Distance to Dune using cleaned data from only nests inventoried\n",
    "thinkplot.Scatter(nest_data_inv.HS, nest_data_inv.DuneDistance_m, alpha=1)\n",
    "thinkplot.Config(xlabel='Hatching Success (%)',\n",
    "                 ylabel='Distance to Dune (m)')"
   ]
  },
  {
   "cell_type": "code",
   "execution_count": 49,
   "id": "e1e30852",
   "metadata": {},
   "outputs": [
    {
     "data": {
      "text/plain": [
       "3.5783722012019137"
      ]
     },
     "execution_count": 49,
     "metadata": {},
     "output_type": "execute_result"
    }
   ],
   "source": [
    "# Calculating covariance\n",
    "Cov(nest_data_inv.DuneDistance_m, nest_data_inv.HS)"
   ]
  },
  {
   "cell_type": "code",
   "execution_count": 50,
   "id": "9dbe5df5",
   "metadata": {},
   "outputs": [
    {
     "data": {
      "text/plain": [
       "0.041765905320439466"
      ]
     },
     "execution_count": 50,
     "metadata": {},
     "output_type": "execute_result"
    }
   ],
   "source": [
    "# Calculating Pearson's correlation coefficient\n",
    "Corr(nest_data_inv.DuneDistance_m, nest_data_inv.HS)"
   ]
  },
  {
   "cell_type": "code",
   "execution_count": 51,
   "id": "c641233f",
   "metadata": {},
   "outputs": [
    {
     "data": {
      "text/plain": [
       "0.10011545346270187"
      ]
     },
     "execution_count": 51,
     "metadata": {},
     "output_type": "execute_result"
    }
   ],
   "source": [
    "# Calculating Spearman's Correlation\n",
    "SpearmanCorr(nest_data_inv.DuneDistance_m, nest_data_inv.HS)"
   ]
  },
  {
   "cell_type": "markdown",
   "id": "4eae19e4",
   "metadata": {},
   "source": [
    "Based on these results, there may be a very, very slight positive correlation betwenn these two variables (correlation=0.04, Spearman's Correlation=0.1), however looking at the scatterplot any relationship between these two variables is rather imperceptible. That doesn't mean we can't rule out nonlinear relationships, as there still could be a nonlinear relatoinshp between thes variables that warrants further investigation - for instance, looking at the scatterplots there does appear to be a rather large congregation of points in the lower right quadrant indicating nests that are located closer to the dunes and have relatively high hatch success rates, so that could be something to look into further and see if a nonlinear relationship does exist."
   ]
  },
  {
   "cell_type": "markdown",
   "id": "89ebe9b5",
   "metadata": {},
   "source": [
    "#### Scatterplot 2: Incubation Period vs. Clutch Depth"
   ]
  },
  {
   "cell_type": "markdown",
   "id": "ca75f38b",
   "metadata": {},
   "source": [
    "The second scatterplot I chose to plot is the relationship between incubation period and clutch depth. A lot of environmental factors affect how a nest incubates, and how deep the turtle laid her eggs could determine how much these factors affect incubation and nest success. For instance, nests laid at a hallower clutch depth are more likely to vary with ambient beach temperature which could speed up incubation (or even lead to total nest mortality in cases of extreme, consistent heat exposure). "
   ]
  },
  {
   "cell_type": "code",
   "execution_count": 52,
   "id": "a3ebd9e5",
   "metadata": {},
   "outputs": [
    {
     "data": {
      "image/png": "[encoded data removed]",
      "text/plain": [
       "<Figure size 640x480 with 1 Axes>"
      ]
     },
     "metadata": {},
     "output_type": "display_data"
    }
   ],
   "source": [
    "# Plotting scatterplot for nest incubation period vs. clutch depth using cleaned data from only nests inventoried\n",
    "thinkplot.Scatter(nest_data_inv.IncubationPeriod, nest_data_inv.ClutchDepth_m, alpha=1)\n",
    "thinkplot.Config(xlabel='Incubation Period (days)',\n",
    "                 ylabel='Clutch Depth (m)',)"
   ]
  },
  {
   "cell_type": "code",
   "execution_count": 53,
   "id": "100d17a1",
   "metadata": {},
   "outputs": [
    {
     "data": {
      "text/plain": [
       "0.07533558516294488"
      ]
     },
     "execution_count": 53,
     "metadata": {},
     "output_type": "execute_result"
    }
   ],
   "source": [
    "# Calculating covariance\n",
    "Cov(nest_data_inv.IncubationPeriod, nest_data_inv.ClutchDepth_m)"
   ]
  },
  {
   "cell_type": "code",
   "execution_count": 54,
   "id": "92370531",
   "metadata": {},
   "outputs": [
    {
     "data": {
      "text/plain": [
       "0.06581437507360208"
      ]
     },
     "execution_count": 54,
     "metadata": {},
     "output_type": "execute_result"
    }
   ],
   "source": [
    "# Calculating Pearson's correlation coefficient\n",
    "Corr(nest_data_inv.IncubationPeriod, nest_data_inv.ClutchDepth_m)"
   ]
  },
  {
   "cell_type": "code",
   "execution_count": 55,
   "id": "53698620",
   "metadata": {},
   "outputs": [
    {
     "data": {
      "text/plain": [
       "0.09647501434964356"
      ]
     },
     "execution_count": 55,
     "metadata": {},
     "output_type": "execute_result"
    }
   ],
   "source": [
    "# Calculating Spearman's Correlation\n",
    "SpearmanCorr(nest_data_inv.IncubationPeriod, nest_data_inv.ClutchDepth_m)"
   ]
  },
  {
   "cell_type": "markdown",
   "id": "aab5a1d8",
   "metadata": {},
   "source": [
    "Again, we see little to no evidence of a linear relationship between clutch depth and incubation period. However, the 70-day nest outliers may be having an impact on this data, and being that 70-day nests are unreliable we may chose to disclude them from certain analyses. Both the correlation coefficient and the Spearman's correlation show, if anything, a very weak positive relationship, though the realtionship is almost negligible. Moving forward, to get a more accurate depiction of these variables' relationships I may want to choose discluding any nests with incubation periods of 70-days or more."
   ]
  },
  {
   "cell_type": "markdown",
   "id": "b1fa0862",
   "metadata": {},
   "source": [
    "### Hypothesis Test"
   ]
  },
  {
   "cell_type": "markdown",
   "id": "5152a4d6",
   "metadata": {},
   "source": [
    "For my hypothesis test, I chose a permutation test to see if there is a difference between the mean incubation period of nests laid on armored beach vs. nests laid on unarmored beach. Incubation period is a very important variable to look at when comapring nest performance, as longer incubation periods tend to indicate that the nests incubated at cooler temperatures which could ultimately be better for sea turtle populations due to the fact that sea turtles have temperature-dependent sex determination. What this means is that depending on how warm the eggs are during development will determine whether or not the sea turtles develop into males or females. As ambient beach temperatures warm we are seeing most nests hatch as all females which will skew the populations and could ultimately lead to an extinction event due to genetic bottlenecking with not enough males to reproduce in the population. Vertical seawalls do provide more natural shading to beaches, and more nests on armored beaches run the risk of being washed over by tides due to the narrower beach - both of these phenomena could cool the nests down and actually beneift sea turtle populations.\n",
    "\n",
    "**Null Hypothesis:** There is no difference in the average incubation period between sea turtle nests laid on armored beach and sea turtle nests laid on unarmored beach.\n",
    "\n",
    "**Alternative Hypothesis:** There is a difference in the average incubation period between sea turtle nests laid on armored beach and sea turtle nests laid on unarmored beach."
   ]
  },
  {
   "cell_type": "code",
   "execution_count": 56,
   "id": "cf42fbd2",
   "metadata": {},
   "outputs": [],
   "source": [
    "# Thinkstats code for permutation test\n",
    "class DiffMeansPermute(thinkstats2.HypothesisTest):\n",
    "\n",
    "    def TestStatistic(self, data):\n",
    "        group1, group2 = data\n",
    "        test_stat = abs(group1.mean() - group2.mean())\n",
    "        return test_stat\n",
    "\n",
    "    def MakeModel(self):\n",
    "        group1, group2 = self.data\n",
    "        self.n, self.m = len(group1), len(group2)\n",
    "        self.pool = np.hstack((group1, group2))\n",
    "\n",
    "    def RunModel(self):\n",
    "        np.random.shuffle(self.pool)\n",
    "        data = self.pool[:self.n], self.pool[self.n:]\n",
    "        return data"
   ]
  },
  {
   "cell_type": "code",
   "execution_count": 57,
   "id": "b031dd91",
   "metadata": {},
   "outputs": [],
   "source": [
    "# Dropping empty values from armored and unarmored nests\n",
    "armored = armored.dropna(subset=['IncubationPeriod'])\n",
    "unarmored = unarmored.dropna(subset=['IncubationPeriod'])"
   ]
  },
  {
   "cell_type": "code",
   "execution_count": 58,
   "id": "f0e65a28",
   "metadata": {},
   "outputs": [],
   "source": [
    "# Loading the data into a variable\n",
    "hyptest_data = armored.IncubationPeriod, unarmored.IncubationPeriod"
   ]
  },
  {
   "cell_type": "code",
   "execution_count": 59,
   "id": "daf62b1e",
   "metadata": {},
   "outputs": [
    {
     "data": {
      "text/plain": [
       "0.322"
      ]
     },
     "execution_count": 59,
     "metadata": {},
     "output_type": "execute_result"
    }
   ],
   "source": [
    "# Running the two-sided hypothesis test\n",
    "ht = DiffMeansPermute(hyptest_data)\n",
    "pvalue = ht.PValue()\n",
    "pvalue"
   ]
  },
  {
   "cell_type": "markdown",
   "id": "796f0921",
   "metadata": {},
   "source": [
    "With a p-value of 0.329, we accept the null hypothesis in that there is no statistically significant difference between incubation period of nests laid on armored beach and nests laid on unarmored beach."
   ]
  },
  {
   "cell_type": "code",
   "execution_count": 60,
   "id": "b52f90c2",
   "metadata": {},
   "outputs": [],
   "source": [
    "# Attempting a one-sided permutation test to see if there is any difference in a certain direction \n",
    "class DiffMeansOneSided(DiffMeansPermute):\n",
    "\n",
    "    def TestStatistic(self, data):\n",
    "        group1, group2 = data\n",
    "        test_stat = group1.mean() - group2.mean()\n",
    "        return test_stat"
   ]
  },
  {
   "cell_type": "code",
   "execution_count": 61,
   "id": "479a9c28",
   "metadata": {},
   "outputs": [
    {
     "data": {
      "text/plain": [
       "0.167"
      ]
     },
     "execution_count": 61,
     "metadata": {},
     "output_type": "execute_result"
    }
   ],
   "source": [
    "# Running the one-sided permutation test\n",
    "ht = DiffMeansOneSided(hyptest_data)\n",
    "pvalue = ht.PValue()\n",
    "pvalue"
   ]
  },
  {
   "cell_type": "markdown",
   "id": "df030dd0",
   "metadata": {},
   "source": [
    "While the one-sided test has a lower p-value than the two-sided test, it is still not significant."
   ]
  },
  {
   "cell_type": "markdown",
   "id": "2035b132",
   "metadata": {},
   "source": [
    "### Regression Analysis"
   ]
  },
  {
   "cell_type": "markdown",
   "id": "da244e6d",
   "metadata": {},
   "source": [
    "Before running a regression analysis, I must perform some transformations on the data to include whether or not a nest is on armored beach in the data frame. To do this, I created an additional boolean variable that indicates whether or not the nest is on armored beach:"
   ]
  },
  {
   "cell_type": "code",
   "execution_count": 62,
   "id": "7b1bc445",
   "metadata": {},
   "outputs": [
    {
     "data": {
      "text/html": [
       "<div>\n",
       "<style scoped>\n",
       "    .dataframe tbody tr th:only-of-type {\n",
       "        vertical-align: middle;\n",
       "    }\n",
       "\n",
       "    .dataframe tbody tr th {\n",
       "        vertical-align: top;\n",
       "    }\n",
       "\n",
       "    .dataframe thead th {\n",
       "        text-align: right;\n",
       "    }\n",
       "</style>\n",
       "<table border=\"1\" class=\"dataframe\">\n",
       "  <thead>\n",
       "    <tr style=\"text-align: right;\">\n",
       "      <th></th>\n",
       "      <th>OBJECTID</th>\n",
       "      <th>CrawlYear</th>\n",
       "      <th>DayofYear</th>\n",
       "      <th>CrawlDate</th>\n",
       "      <th>CrawlDateText</th>\n",
       "      <th>CrawlTime</th>\n",
       "      <th>MgmtArea</th>\n",
       "      <th>SurveyArea</th>\n",
       "      <th>SurveyZone</th>\n",
       "      <th>Lat</th>\n",
       "      <th>...</th>\n",
       "      <th>NestInventoried</th>\n",
       "      <th>Accreted</th>\n",
       "      <th>AmountofAccretion</th>\n",
       "      <th>IncubationPeriod</th>\n",
       "      <th>ClutchSize</th>\n",
       "      <th>UnhatchedSum</th>\n",
       "      <th>HatchlingSum</th>\n",
       "      <th>HS</th>\n",
       "      <th>ES</th>\n",
       "      <th>Armored</th>\n",
       "    </tr>\n",
       "  </thead>\n",
       "  <tbody>\n",
       "    <tr>\n",
       "      <th>8</th>\n",
       "      <td>4240.0</td>\n",
       "      <td>2022.0</td>\n",
       "      <td>150.0</td>\n",
       "      <td>2022-05-30</td>\n",
       "      <td>5/30/2022</td>\n",
       "      <td>06:39</td>\n",
       "      <td>DISNEY</td>\n",
       "      <td>Wabasso</td>\n",
       "      <td>09S</td>\n",
       "      <td>27.765231</td>\n",
       "      <td>...</td>\n",
       "      <td>Y</td>\n",
       "      <td>NaN</td>\n",
       "      <td>NaN</td>\n",
       "      <td>58.0</td>\n",
       "      <td>111.0</td>\n",
       "      <td>8.0</td>\n",
       "      <td>1.0</td>\n",
       "      <td>92.792793</td>\n",
       "      <td>91.891892</td>\n",
       "      <td>True</td>\n",
       "    </tr>\n",
       "    <tr>\n",
       "      <th>19</th>\n",
       "      <td>4598.0</td>\n",
       "      <td>2022.0</td>\n",
       "      <td>140.0</td>\n",
       "      <td>2022-05-20</td>\n",
       "      <td>5/20/2022</td>\n",
       "      <td>06:46</td>\n",
       "      <td>DISNEY</td>\n",
       "      <td>Wabasso</td>\n",
       "      <td>09G</td>\n",
       "      <td>27.767348</td>\n",
       "      <td>...</td>\n",
       "      <td>Y</td>\n",
       "      <td>NaN</td>\n",
       "      <td>NaN</td>\n",
       "      <td>56.0</td>\n",
       "      <td>88.0</td>\n",
       "      <td>16.0</td>\n",
       "      <td>1.0</td>\n",
       "      <td>81.818182</td>\n",
       "      <td>80.681818</td>\n",
       "      <td>True</td>\n",
       "    </tr>\n",
       "    <tr>\n",
       "      <th>23</th>\n",
       "      <td>1330.0</td>\n",
       "      <td>2022.0</td>\n",
       "      <td>199.0</td>\n",
       "      <td>2022-07-18</td>\n",
       "      <td>7/18/2022</td>\n",
       "      <td>07:33</td>\n",
       "      <td>DISNEY</td>\n",
       "      <td>Wabasso</td>\n",
       "      <td>10F</td>\n",
       "      <td>27.758060</td>\n",
       "      <td>...</td>\n",
       "      <td>Y</td>\n",
       "      <td>NaN</td>\n",
       "      <td>NaN</td>\n",
       "      <td>70.0</td>\n",
       "      <td>45.0</td>\n",
       "      <td>45.0</td>\n",
       "      <td>0.0</td>\n",
       "      <td>0.000000</td>\n",
       "      <td>0.000000</td>\n",
       "      <td>False</td>\n",
       "    </tr>\n",
       "    <tr>\n",
       "      <th>65</th>\n",
       "      <td>3213.0</td>\n",
       "      <td>2022.0</td>\n",
       "      <td>171.0</td>\n",
       "      <td>2022-06-20</td>\n",
       "      <td>6/20/2022</td>\n",
       "      <td>08:43</td>\n",
       "      <td>IRS</td>\n",
       "      <td>Indian River Shores (Baytree)</td>\n",
       "      <td>13S</td>\n",
       "      <td>27.750117</td>\n",
       "      <td>...</td>\n",
       "      <td>Y</td>\n",
       "      <td>NaN</td>\n",
       "      <td>NaN</td>\n",
       "      <td>61.0</td>\n",
       "      <td>64.0</td>\n",
       "      <td>2.0</td>\n",
       "      <td>3.0</td>\n",
       "      <td>96.875000</td>\n",
       "      <td>92.187500</td>\n",
       "      <td>False</td>\n",
       "    </tr>\n",
       "    <tr>\n",
       "      <th>70</th>\n",
       "      <td>2977.0</td>\n",
       "      <td>2022.0</td>\n",
       "      <td>176.0</td>\n",
       "      <td>2022-06-25</td>\n",
       "      <td>6/25/2022</td>\n",
       "      <td>08:42</td>\n",
       "      <td>IRS</td>\n",
       "      <td>Indian River Shores (Baytree)</td>\n",
       "      <td>13S</td>\n",
       "      <td>27.750027</td>\n",
       "      <td>...</td>\n",
       "      <td>Y</td>\n",
       "      <td>NaN</td>\n",
       "      <td>NaN</td>\n",
       "      <td>56.0</td>\n",
       "      <td>60.0</td>\n",
       "      <td>4.0</td>\n",
       "      <td>9.0</td>\n",
       "      <td>93.333333</td>\n",
       "      <td>78.333333</td>\n",
       "      <td>False</td>\n",
       "    </tr>\n",
       "  </tbody>\n",
       "</table>\n",
       "<p>5 rows × 108 columns</p>\n",
       "</div>"
      ],
      "text/plain": [
       "    OBJECTID  CrawlYear  DayofYear  CrawlDate CrawlDateText CrawlTime  \\\n",
       "8     4240.0     2022.0      150.0 2022-05-30     5/30/2022     06:39   \n",
       "19    4598.0     2022.0      140.0 2022-05-20     5/20/2022     06:46   \n",
       "23    1330.0     2022.0      199.0 2022-07-18     7/18/2022     07:33   \n",
       "65    3213.0     2022.0      171.0 2022-06-20     6/20/2022     08:43   \n",
       "70    2977.0     2022.0      176.0 2022-06-25     6/25/2022     08:42   \n",
       "\n",
       "   MgmtArea                     SurveyArea SurveyZone        Lat  ...  \\\n",
       "8    DISNEY                        Wabasso        09S  27.765231  ...   \n",
       "19   DISNEY                        Wabasso        09G  27.767348  ...   \n",
       "23   DISNEY                        Wabasso        10F  27.758060  ...   \n",
       "65      IRS  Indian River Shores (Baytree)        13S  27.750117  ...   \n",
       "70      IRS  Indian River Shores (Baytree)        13S  27.750027  ...   \n",
       "\n",
       "    NestInventoried  Accreted  AmountofAccretion  IncubationPeriod ClutchSize  \\\n",
       "8                 Y       NaN                NaN              58.0      111.0   \n",
       "19                Y       NaN                NaN              56.0       88.0   \n",
       "23                Y       NaN                NaN              70.0       45.0   \n",
       "65                Y       NaN                NaN              61.0       64.0   \n",
       "70                Y       NaN                NaN              56.0       60.0   \n",
       "\n",
       "   UnhatchedSum HatchlingSum         HS         ES Armored  \n",
       "8           8.0          1.0  92.792793  91.891892    True  \n",
       "19         16.0          1.0  81.818182  80.681818    True  \n",
       "23         45.0          0.0   0.000000   0.000000   False  \n",
       "65          2.0          3.0  96.875000  92.187500   False  \n",
       "70          4.0          9.0  93.333333  78.333333   False  \n",
       "\n",
       "[5 rows x 108 columns]"
      ]
     },
     "execution_count": 62,
     "metadata": {},
     "output_type": "execute_result"
    }
   ],
   "source": [
    "# Define the conditions for armored and unarmored beaches\n",
    "armored_conditions = (nest_data_inv['SurveyZone'].isin(['09G', '09S']))\n",
    "unarmored_conditions = (nest_data_inv['SurveyZone'].isin(['16', '17']))\n",
    "\n",
    "# Create a new column 'Armored' based on the conditions\n",
    "nest_data_inv['Armored'] = False  # Initialize with a default value (False for unarmored)\n",
    "nest_data_inv.loc[armored_conditions, 'Armored'] = True\n",
    "\n",
    "# Checking the updated DataFrame\n",
    "nest_data_inv.head()"
   ]
  },
  {
   "cell_type": "code",
   "execution_count": 63,
   "id": "6671292c",
   "metadata": {
    "scrolled": true
   },
   "outputs": [
    {
     "data": {
      "text/html": [
       "<div>\n",
       "<style scoped>\n",
       "    .dataframe tbody tr th:only-of-type {\n",
       "        vertical-align: middle;\n",
       "    }\n",
       "\n",
       "    .dataframe tbody tr th {\n",
       "        vertical-align: top;\n",
       "    }\n",
       "\n",
       "    .dataframe thead th {\n",
       "        text-align: right;\n",
       "    }\n",
       "</style>\n",
       "<table border=\"1\" class=\"dataframe\">\n",
       "  <thead>\n",
       "    <tr style=\"text-align: right;\">\n",
       "      <th></th>\n",
       "      <th>OBJECTID</th>\n",
       "      <th>CrawlYear</th>\n",
       "      <th>DayofYear</th>\n",
       "      <th>CrawlDate</th>\n",
       "      <th>CrawlDateText</th>\n",
       "      <th>CrawlTime</th>\n",
       "      <th>MgmtArea</th>\n",
       "      <th>SurveyArea</th>\n",
       "      <th>SurveyZone</th>\n",
       "      <th>Lat</th>\n",
       "      <th>...</th>\n",
       "      <th>NestInventoried</th>\n",
       "      <th>Accreted</th>\n",
       "      <th>AmountofAccretion</th>\n",
       "      <th>IncubationPeriod</th>\n",
       "      <th>ClutchSize</th>\n",
       "      <th>UnhatchedSum</th>\n",
       "      <th>HatchlingSum</th>\n",
       "      <th>HS</th>\n",
       "      <th>ES</th>\n",
       "      <th>Armored</th>\n",
       "    </tr>\n",
       "  </thead>\n",
       "  <tbody>\n",
       "    <tr>\n",
       "      <th>8</th>\n",
       "      <td>4240.0</td>\n",
       "      <td>2022.0</td>\n",
       "      <td>150.0</td>\n",
       "      <td>2022-05-30</td>\n",
       "      <td>5/30/2022</td>\n",
       "      <td>06:39</td>\n",
       "      <td>DISNEY</td>\n",
       "      <td>Wabasso</td>\n",
       "      <td>09S</td>\n",
       "      <td>27.765231</td>\n",
       "      <td>...</td>\n",
       "      <td>Y</td>\n",
       "      <td>NaN</td>\n",
       "      <td>NaN</td>\n",
       "      <td>58.0</td>\n",
       "      <td>111.0</td>\n",
       "      <td>8.0</td>\n",
       "      <td>1.0</td>\n",
       "      <td>92.792793</td>\n",
       "      <td>91.891892</td>\n",
       "      <td>True</td>\n",
       "    </tr>\n",
       "    <tr>\n",
       "      <th>19</th>\n",
       "      <td>4598.0</td>\n",
       "      <td>2022.0</td>\n",
       "      <td>140.0</td>\n",
       "      <td>2022-05-20</td>\n",
       "      <td>5/20/2022</td>\n",
       "      <td>06:46</td>\n",
       "      <td>DISNEY</td>\n",
       "      <td>Wabasso</td>\n",
       "      <td>09G</td>\n",
       "      <td>27.767348</td>\n",
       "      <td>...</td>\n",
       "      <td>Y</td>\n",
       "      <td>NaN</td>\n",
       "      <td>NaN</td>\n",
       "      <td>56.0</td>\n",
       "      <td>88.0</td>\n",
       "      <td>16.0</td>\n",
       "      <td>1.0</td>\n",
       "      <td>81.818182</td>\n",
       "      <td>80.681818</td>\n",
       "      <td>True</td>\n",
       "    </tr>\n",
       "    <tr>\n",
       "      <th>96</th>\n",
       "      <td>3288.0</td>\n",
       "      <td>2022.0</td>\n",
       "      <td>169.0</td>\n",
       "      <td>2022-06-18</td>\n",
       "      <td>6/18/2022</td>\n",
       "      <td>11:55</td>\n",
       "      <td>IRS</td>\n",
       "      <td>Indian River Shores (Baytree)</td>\n",
       "      <td>17</td>\n",
       "      <td>27.712149</td>\n",
       "      <td>...</td>\n",
       "      <td>Y</td>\n",
       "      <td>NaN</td>\n",
       "      <td>NaN</td>\n",
       "      <td>52.0</td>\n",
       "      <td>131.0</td>\n",
       "      <td>35.0</td>\n",
       "      <td>7.0</td>\n",
       "      <td>73.282443</td>\n",
       "      <td>67.938931</td>\n",
       "      <td>False</td>\n",
       "    </tr>\n",
       "    <tr>\n",
       "      <th>296</th>\n",
       "      <td>2931.0</td>\n",
       "      <td>2022.0</td>\n",
       "      <td>176.0</td>\n",
       "      <td>2022-06-25</td>\n",
       "      <td>6/25/2022</td>\n",
       "      <td>10:24</td>\n",
       "      <td>IRS</td>\n",
       "      <td>Indian River Shores (Baytree)</td>\n",
       "      <td>17</td>\n",
       "      <td>27.718136</td>\n",
       "      <td>...</td>\n",
       "      <td>Y</td>\n",
       "      <td>NaN</td>\n",
       "      <td>NaN</td>\n",
       "      <td>60.0</td>\n",
       "      <td>80.0</td>\n",
       "      <td>24.0</td>\n",
       "      <td>1.0</td>\n",
       "      <td>70.000000</td>\n",
       "      <td>68.750000</td>\n",
       "      <td>False</td>\n",
       "    </tr>\n",
       "    <tr>\n",
       "      <th>303</th>\n",
       "      <td>2924.0</td>\n",
       "      <td>2022.0</td>\n",
       "      <td>177.0</td>\n",
       "      <td>2022-06-26</td>\n",
       "      <td>6/26/2022</td>\n",
       "      <td>06:18</td>\n",
       "      <td>DISNEY</td>\n",
       "      <td>Wabasso</td>\n",
       "      <td>09S</td>\n",
       "      <td>27.766870</td>\n",
       "      <td>...</td>\n",
       "      <td>Y</td>\n",
       "      <td>NaN</td>\n",
       "      <td>NaN</td>\n",
       "      <td>60.0</td>\n",
       "      <td>83.0</td>\n",
       "      <td>12.0</td>\n",
       "      <td>0.0</td>\n",
       "      <td>85.542169</td>\n",
       "      <td>85.542169</td>\n",
       "      <td>True</td>\n",
       "    </tr>\n",
       "  </tbody>\n",
       "</table>\n",
       "<p>5 rows × 108 columns</p>\n",
       "</div>"
      ],
      "text/plain": [
       "     OBJECTID  CrawlYear  DayofYear  CrawlDate CrawlDateText CrawlTime  \\\n",
       "8      4240.0     2022.0      150.0 2022-05-30     5/30/2022     06:39   \n",
       "19     4598.0     2022.0      140.0 2022-05-20     5/20/2022     06:46   \n",
       "96     3288.0     2022.0      169.0 2022-06-18     6/18/2022     11:55   \n",
       "296    2931.0     2022.0      176.0 2022-06-25     6/25/2022     10:24   \n",
       "303    2924.0     2022.0      177.0 2022-06-26     6/26/2022     06:18   \n",
       "\n",
       "    MgmtArea                     SurveyArea SurveyZone        Lat  ...  \\\n",
       "8     DISNEY                        Wabasso        09S  27.765231  ...   \n",
       "19    DISNEY                        Wabasso        09G  27.767348  ...   \n",
       "96       IRS  Indian River Shores (Baytree)         17  27.712149  ...   \n",
       "296      IRS  Indian River Shores (Baytree)         17  27.718136  ...   \n",
       "303   DISNEY                        Wabasso        09S  27.766870  ...   \n",
       "\n",
       "     NestInventoried  Accreted  AmountofAccretion  IncubationPeriod  \\\n",
       "8                  Y       NaN                NaN              58.0   \n",
       "19                 Y       NaN                NaN              56.0   \n",
       "96                 Y       NaN                NaN              52.0   \n",
       "296                Y       NaN                NaN              60.0   \n",
       "303                Y       NaN                NaN              60.0   \n",
       "\n",
       "    ClutchSize UnhatchedSum HatchlingSum         HS         ES Armored  \n",
       "8        111.0          8.0          1.0  92.792793  91.891892    True  \n",
       "19        88.0         16.0          1.0  81.818182  80.681818    True  \n",
       "96       131.0         35.0          7.0  73.282443  67.938931   False  \n",
       "296       80.0         24.0          1.0  70.000000  68.750000   False  \n",
       "303       83.0         12.0          0.0  85.542169  85.542169    True  \n",
       "\n",
       "[5 rows x 108 columns]"
      ]
     },
     "execution_count": 63,
     "metadata": {},
     "output_type": "execute_result"
    }
   ],
   "source": [
    "target_zones = ['09G', '09S', '16', '17']\n",
    "\n",
    "# Filter the DataFrame based on the target zones I want to include\n",
    "nest_data_inv = nest_data_inv[nest_data_inv['SurveyZone'].isin(target_zones)]\n",
    "\n",
    "# Checking the filtered DataFrame\n",
    "nest_data_inv.head()"
   ]
  },
  {
   "cell_type": "markdown",
   "id": "4f701d04",
   "metadata": {},
   "source": [
    "Using code from statsmodel outlined in the textbook to run a multiple regression analysis looking at the impact of clutch depth, incubation period, distance to dune, and the presence of coastal armoring on the dependent variable, hatch success:"
   ]
  },
  {
   "cell_type": "code",
   "execution_count": 64,
   "id": "971838cf",
   "metadata": {},
   "outputs": [
    {
     "name": "stdout",
     "output_type": "stream",
     "text": [
      "                            OLS Regression Results                            \n",
      "==============================================================================\n",
      "Dep. Variable:                     HS   R-squared:                       0.233\n",
      "Model:                            OLS   Adj. R-squared:                  0.202\n",
      "Method:                 Least Squares   F-statistic:                     7.441\n",
      "Date:                Sat, 18 Nov 2023   Prob (F-statistic):           2.82e-05\n",
      "Time:                        08:10:20   Log-Likelihood:                -461.38\n",
      "No. Observations:                 103   AIC:                             932.8\n",
      "Df Residuals:                      98   BIC:                             945.9\n",
      "Df Model:                           4                                         \n",
      "Covariance Type:            nonrobust                                         \n",
      "====================================================================================\n",
      "                       coef    std err          t      P>|t|      [0.025      0.975]\n",
      "------------------------------------------------------------------------------------\n",
      "const              103.1004     18.923      5.448      0.000      65.549     140.652\n",
      "ClutchDepth_m      -16.5620     16.718     -0.991      0.324     -49.738      16.614\n",
      "IncubationPeriod    -0.3489      0.296     -1.181      0.241      -0.935       0.238\n",
      "DuneDistance_m      -3.3705      1.097     -3.071      0.003      -5.548      -1.193\n",
      "Armored             15.7103      4.427      3.549      0.001       6.925      24.496\n",
      "==============================================================================\n",
      "Omnibus:                        9.125   Durbin-Watson:                   2.127\n",
      "Prob(Omnibus):                  0.010   Jarque-Bera (JB):                9.792\n",
      "Skew:                          -0.753   Prob(JB):                      0.00748\n",
      "Kurtosis:                       2.897   Cond. No.                         569.\n",
      "==============================================================================\n",
      "\n",
      "Notes:\n",
      "[1] Standard Errors assume that the covariance matrix of the errors is correctly specified.\n"
     ]
    }
   ],
   "source": [
    "import statsmodels.api as sm\n",
    "\n",
    "# Convert 'Armored' to numeric (0 and 1)\n",
    "nest_data_inv['Armored'] = nest_data_inv['Armored'].astype(int)\n",
    "\n",
    "# Drop rows with missing values (if any)\n",
    "filtered_nestinvdata = nest_data_inv.dropna(subset=['ClutchDepth_m', 'IncubationPeriod', 'DuneDistance_m', 'Armored', 'HS'])\n",
    "\n",
    "# Create a design matrix\n",
    "X = filtered_nestinvdata[['ClutchDepth_m', 'IncubationPeriod', 'DuneDistance_m', 'Armored']]\n",
    "\n",
    "# Add a constant term to the design matrix\n",
    "X = sm.add_constant(X)\n",
    "\n",
    "# Defining the dependent variable\n",
    "y = filtered_nestinvdata['HS']\n",
    "\n",
    "# Fit the regression model\n",
    "model = sm.OLS(y, X).fit()\n",
    "\n",
    "# Print the regression summary\n",
    "print(model.summary())"
   ]
  },
  {
   "cell_type": "markdown",
   "id": "8d6cca3f",
   "metadata": {},
   "source": [
    "The R-squared value is 0.233, indicating that the model explains 23.3% of the variance seen in the dependent vairable Hatch Success. The adjusted R-squared, which takes into account the number of predictors, is 0.202, so with weighing the number of predictors this model explains slightly less of the variance seen in the dependent variable.\n",
    "\n",
    "Here are some conclusions that we can draw about each of the predictors based on this multiple regression model:\n",
    "\n",
    "**ClutchDepth_m:** The coefficient is -16.5620, but the p-value is 0.324 (> 0.05), suggesting that clutch depth is not a statistically significant predictor of hatch success. \n",
    "\n",
    "**IncubationPeriod:** The coefficient is -0.3489, with a p-value of 0.241 (> 0.05), indicating that the incubation period of a nest is not a statistically significant predictor of hatch success.\n",
    "\n",
    "**DuneDistance_m:** The coefficient is -3.3705, and the p-value is 0.003 (< 0.05), suggesting a statistically significant negative relationship with hatch success. As the distance to dune increases (in other words, the closer a nest is laid to the high tide line), hatch success tends to decrease. This is important to consider because it shows that the position a nest is laid on the beach could significantlly impact it's success. \n",
    "\n",
    "**Armored:** The coefficient is 15.7103, and the p-value is 0.001 (< 0.05), indicating a statistically significant positive relationship, meaning that nests on armored beach tend to have higher hatch success compared to ests laid on unarmored nests. This is the opposite of what I would expect to see as typically coastal armoring is seen as negatively impacting coastal ecosystems. However, further analysis, testing, and replication is needed before we can definitively say whether or not coastal armoring alone positively impacts hatch success of sea turtle nests."
   ]
  },
  {
   "cell_type": "markdown",
   "id": "36f2ba5d",
   "metadata": {},
   "source": [
    "### Final Analysis"
   ]
  },
  {
   "cell_type": "markdown",
   "id": "c88cfcab",
   "metadata": {},
   "source": [
    "In this exploratory data analysis, I set out to look at different factors that could potentially impact the success and performance of sea turtle nests at a study site along Florida’s eastern coastline. More particularly, I was interested to see how sea turtle nests laid on a beach armored with a vertical seawall potentially differed from nests laid on natural, unarmored beach. Seawalls are becoming an increasingly common response to coastal erosion by replacing the natural dune line with a vertical wall to protect coastal infrastructure, however their impacts to coastal ecosystems, particularly the fragile nesting habitat of endangered loggerhead, green, and leatherback sea turtles, are not well understood.  \n",
    "\n",
    "To do this, I utilized a data set from a study beach in Florida during the 2022 sea turtle nesting season that contains information regarding sea turtle nest productivity. There are many variables that can impact the success of a nest such as how deep the eggs were laid, the location on the beach where they were laid, etc., and I wanted to take into account some of these variables throughout the analysis to see how nests laid on armored beach vs. unarmored beach differed. This analysis gave some great insight into how these different variables are related to one another and how they impact the success of the nest. The most surprising results, however, came from the multiple regression model where it suggested that nests laid on armored beach have a generally higher hatch success rate than nests on unarmored beach. However, it was also seen from that model that nests laid farther away from the dune and closer to the water line tend to have lower hatch success rate, which can sometimes be more common on armored beach given that the beach is narrower.  \n",
    "\n",
    "However, there are a lot of other factors to consider when drawing conclusions from these results. First, I was only able to analyze one year of this nesting sea turtle data, but in order to get a more holistic picture of nest performance we must look at a much larger dataset encompassing many years to see overall trends of the beach. Incorporating different years would also open the door for time series analyses which could be incredibly useful in tracking trends over time. In addition, I chose to assume that all sea turtle species are similar in their nesting behaviors by including them all in this analysis, however that is not really the case. Because I was only working with one year’s worth of data, and with my limited knowledge of cleaning and transforming data with Python, splitting it up by species would have been challenging for me and made my sample sizes way too small. Plus, for this analysis my main goal was to analyze the differences in nests on armored beach and unarmored beach, so keeping the species together in this type of analysis accomplished my goal. For future analyses that zoom in on some of the results identified in this initial EDA, it would be important to consider species as a variable.  \n",
    "\n",
    "All in all, this exploratory data analysis yielded some valuable insight into different relationships between variables of sea turtle nesting and nest performance and has laid the foundation on which I can base more in-depth research on this topic."
   ]
  }
 ],
 "metadata": {
  "kernelspec": {
   "display_name": "Python 3 (ipykernel)",
   "language": "python",
   "name": "python3"
  },
  "language_info": {
   "codemirror_mode": {
    "name": "ipython",
    "version": 3
   },
   "file_extension": ".py",
   "mimetype": "text/x-python",
   "name": "python",
   "nbconvert_exporter": "python",
   "pygments_lexer": "ipython3",
   "version": "3.11.4"
  }
 },
 "nbformat": 4,
 "nbformat_minor": 5
}
